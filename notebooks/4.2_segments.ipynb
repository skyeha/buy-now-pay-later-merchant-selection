{
 "cells": [
  {
   "cell_type": "code",
   "execution_count": 151,
   "metadata": {},
   "outputs": [],
   "source": [
    "from pyspark.sql import functions as F, SparkSession\n",
    "\n",
    "import os\n",
    "os.sys.path.append(\"../\")\n",
    "from scripts.consumer_model import *\n",
    "\n",
    "from pyspark.sql import functions as F\n",
    "from pyspark.ml.feature import RegexTokenizer, StopWordsRemover"
   ]
  },
  {
   "cell_type": "code",
   "execution_count": 152,
   "metadata": {},
   "outputs": [],
   "source": [
    "# Create a Spark Session\n",
    "spark = (\n",
    "    SparkSession.builder.appName(\"segments\")\n",
    "    .config(\"spark.sql.repl.eagerEval.enabled\", True)\n",
    "    .config(\"spark.sql.parquet.cacheMetadata\", \"true\")\n",
    "    .config(\"spark.sql.session.timeZone\", \"Etc/UTC\")\n",
    "    .config(\"spark.driver.memory\", \"4g\")\n",
    "    .config(\"spark.executor.memory\", \"2g\")\n",
    "    .getOrCreate()\n",
    ")"
   ]
  },
  {
   "cell_type": "code",
   "execution_count": 153,
   "metadata": {},
   "outputs": [],
   "source": [
    "merchants_info = spark.read.parquet('../data/curated/merchant_info.parquet')"
   ]
  },
  {
   "cell_type": "code",
   "execution_count": 154,
   "metadata": {},
   "outputs": [
    {
     "name": "stdout",
     "output_type": "stream",
     "text": [
      "root\n",
      " |-- name: string (nullable = true)\n",
      " |-- merchant_abn: long (nullable = true)\n",
      " |-- category: string (nullable = true)\n",
      " |-- revenue_level: string (nullable = true)\n",
      " |-- take_rate: double (nullable = true)\n",
      "\n"
     ]
    }
   ],
   "source": [
    "merchants_info.printSchema()"
   ]
  },
  {
   "cell_type": "markdown",
   "metadata": {},
   "source": [
    "Before we do any tokenization, let's see if there are any merchants with the same category description. This would help use categorise their industry easier and faster."
   ]
  },
  {
   "cell_type": "code",
   "execution_count": 155,
   "metadata": {},
   "outputs": [],
   "source": [
    "distinct_category = merchants_info.groupBy(\"category\").count()"
   ]
  },
  {
   "cell_type": "code",
   "execution_count": 156,
   "metadata": {},
   "outputs": [
    {
     "name": "stdout",
     "output_type": "stream",
     "text": [
      "+---------------------------------------------------------------------------------------+-----+\n",
      "|category                                                                               |count|\n",
      "+---------------------------------------------------------------------------------------+-----+\n",
      "|stationery, office  supplies and printing and writing paper                            |2    |\n",
      "|health  and beauty spas                                                                |1    |\n",
      "|opticians, optical goods, and eyeglasses                                               |145  |\n",
      "|books, periodicals, and  newspapers                                                    |5    |\n",
      "|watch, clock, and jewelry repair shops                                                 |159  |\n",
      "|computer programming , data processing, and integrated systems design services         |182  |\n",
      "|jewelry, watch, clock, and  silverware shops                                           |2    |\n",
      "|opticians, optical  goods, and eyeglasses                                              |1    |\n",
      "|tent and  awning shops                                                                 |1    |\n",
      "|books, periodicals,  and newspapers                                                    |5    |\n",
      "|lawn and garden  supply outlets, including nurseries                                   |2    |\n",
      "|furniture, home furnishings and  equipment shops,  and manufacturers, except appliances|1    |\n",
      "|watch,  clock, and jewelry repair shops                                                |2    |\n",
      "|computer programming , data processing,  and integrated systems design services        |1    |\n",
      "|hobby, toy and  game shops                                                             |1    |\n",
      "|digital goods: books, movies, music                                                    |190  |\n",
      "|computer programming ,  data processing, and integrated systems design services        |1    |\n",
      "|watch, clock, and  jewelry repair shops                                                |4    |\n",
      "|stationery, office supplies and  printing and writing paper                            |1    |\n",
      "|artist supply  and craft shops                                                         |3    |\n",
      "|music shops - musical instruments,  pianos, and sheet music                            |4    |\n",
      "|digital goods: books,  movies, music                                                   |1    |\n",
      "|books, periodicals, and newspapers                                                     |151  |\n",
      "|equipment, tool, furniture, and appliance  rent al and leasing                         |1    |\n",
      "|equipment, tool, furniture, and appliance rent al  and leasing                         |1    |\n",
      "|music shops - musical instruments, pianos, and sheet  music                            |1    |\n",
      "|furniture, home furnishings and equipment  shops, and manufacturers, except appliances |2    |\n",
      "|computers, computer  peripheral equipment, and software                                |3    |\n",
      "|cable, satellite, and other  pay television and radio services                         |4    |\n",
      "|hobby, toy and game  shops                                                             |1    |\n",
      "|motor vehicle supplies  and new parts                                                  |1    |\n",
      "|florists supplies, nursery stock, and flowers                                          |171  |\n",
      "|art dealers and galleries                                                              |111  |\n",
      "|music shops  - musical instruments, pianos, and sheet music                            |1    |\n",
      "|equipment,  tool, furniture, and appliance rent al and leasing                         |1    |\n",
      "|cable, satellite, and other pay  television and radio services                         |1    |\n",
      "|furniture, home furnishings and equipment shops, and manufacturers,  except appliances |2    |\n",
      "|motor vehicle supplies and  new parts                                                  |2    |\n",
      "|music shops - musical instruments, pianos,  and sheet music                            |2    |\n",
      "|equipment, tool, furniture, and appliance rent  al and leasing                         |3    |\n",
      "|antique shops - sales, repairs, and restoration services                               |124  |\n",
      "|florists supplies, nursery  stock, and flowers                                         |1    |\n",
      "|digital  goods: books, movies, music                                                   |2    |\n",
      "|cable, satellite, and other pay television and  radio services                         |1    |\n",
      "|computers, computer peripheral equipment,  and software                                |3    |\n",
      "|lawn and garden supply outlets, including  nurseries                                   |1    |\n",
      "|computers,  computer peripheral equipment, and  software                               |1    |\n",
      "|computer programming , data processing, and integrated  systems design services        |1    |\n",
      "|artist supply and  craft shops                                                         |2    |\n",
      "|florists supplies,  nursery stock, and flowers                                         |1    |\n",
      "|cable, satellite, and other pay television and radio  services                         |1    |\n",
      "|gift, card, novelty, and  souvenir shops                                               |1    |\n",
      "|jewelry, watch,  clock, and silverware shops                                           |1    |\n",
      "|watch, clock, and jewelry repair  shops                                                |2    |\n",
      "|hobby, toy  and game shops                                                             |4    |\n",
      "|lawn and  garden supply outlets, including nurseries                                   |3    |\n",
      "|furniture,  home furnishings and equipment shops, and manufacturers, except appliances |1    |\n",
      "|computer programming , data processing, and integrated systems design  services        |1    |\n",
      "|music  shops - musical instruments, pianos, and sheet music                            |5    |\n",
      "|motor vehicle  supplies and new parts                                                  |1    |\n",
      "|bicycle shops - sales and  service                                                     |1    |\n",
      "|furniture, home furnishings and equipment shops,  and manufacturers, except appliances |3    |\n",
      "|furniture, home furnishings  and equipment shops, and manufacturers, except appliances |2    |\n",
      "|hobby,  toy  and game shops                                                            |1    |\n",
      "|gift, card, novelty, and souvenir shops                                                |178  |\n",
      "|equipment, tool, furniture, and appliance rent al and leasing                          |125  |\n",
      "|books,  periodicals, and newspapers                                                    |3    |\n",
      "|lawn and garden supply outlets,  including nurseries                                   |1    |\n",
      "|shoe  shops                                                                            |3    |\n",
      "|stationery, office supplies  and printing and writing paper                            |2    |\n",
      "|florists  supplies, nursery stock, and flowers                                         |2    |\n",
      "|tent and awning  shops                                                                 |2    |\n",
      "|watch, clock,  and jewelry repair shops                                                |2    |\n",
      "|digital goods:  books, movies, music                                                   |2    |\n",
      "|furniture, home furnishings and equipment shops, and manufacturers, except  appliances |2    |\n",
      "|bicycle shops -  sales and service                                                     |2    |\n",
      "|music shops -  musical instruments, pianos, and sheet music                            |4    |\n",
      "|cable, satellite, and other pay television and radio services                          |163  |\n",
      "|tent and awning shops                                                                  |171  |\n",
      "|artist supply and craft shops                                                          |187  |\n",
      "|equipment, tool, furniture, and appliance rent al and  leasing                         |2    |\n",
      "|computers, computer peripheral equipment, and  software                                |1    |\n",
      "|cable,  satellite, and other pay television and radio services                         |3    |\n",
      "|furniture, home furnishings and  equipment shops, and manufacturers, except appliances |1    |\n",
      "|watch, clock, and jewelry  repair shops                                                |1    |\n",
      "|opticians, optical goods, and  eyeglasses                                              |2    |\n",
      "|stationery, office supplies and printing  and writing paper                            |2    |\n",
      "|florists supplies, nursery stock,  and flowers                                         |3    |\n",
      "|bicycle  shops - sales and service                                                     |1    |\n",
      "|stationery, office supplies and printing and writing paper                             |148  |\n",
      "|furniture, home furnishings and equipment shops, and manufacturers, except appliances  |166  |\n",
      "|computers, computer peripheral  equipment, and software                                |2    |\n",
      "|lawn and garden supply  outlets, including nurseries                                   |1    |\n",
      "|lawn and  garden supply  outlets, including nurseries                                  |1    |\n",
      "|telecom                                                                                |125  |\n",
      "|florists supplies, nursery stock, and  flowers                                         |2    |\n",
      "|jewelry, watch, clock, and silverware shops                                            |88   |\n",
      "|shoe shops                                                                             |182  |\n",
      "|hobby, toy and game shops                                                              |134  |\n",
      "|computers, computer peripheral equipment, and software                                 |169  |\n",
      "+---------------------------------------------------------------------------------------+-----+\n",
      "only showing top 100 rows\n",
      "\n"
     ]
    }
   ],
   "source": [
    "distinct_category.show(100, truncate=False)"
   ]
  },
  {
   "cell_type": "markdown",
   "metadata": {},
   "source": [
    "# Data preprocessing"
   ]
  },
  {
   "cell_type": "code",
   "execution_count": 157,
   "metadata": {},
   "outputs": [],
   "source": [
    "# Lowercase all text\n",
    "merchants_info = merchants_info.withColumn(\"category_clean\", F.lower(F.col(\"category\")))\n",
    "\n",
    "# Tokenize the descriptions (split text into words)\n",
    "tokenizer = RegexTokenizer(inputCol=\"category_clean\", outputCol=\"tokens\", pattern=\"\\\\W\")\n",
    "merchants_info = tokenizer.transform(merchants_info)\n",
    "\n",
    "# Remove stop words\n",
    "stopwords_remover = StopWordsRemover(inputCol=\"tokens\", outputCol=\"filtered_tokens\")\n",
    "merchants_info = stopwords_remover.transform(merchants_info)"
   ]
  },
  {
   "cell_type": "code",
   "execution_count": 158,
   "metadata": {},
   "outputs": [
    {
     "name": "stdout",
     "output_type": "stream",
     "text": [
      "+-----------------------------------------------------------------------------------+-----+\n",
      "|filtered_tokens                                                                    |count|\n",
      "+-----------------------------------------------------------------------------------+-----+\n",
      "|[lawn, garden, supply, outlets, including, nurseries]                              |153  |\n",
      "|[tent, awning, shops]                                                              |178  |\n",
      "|[hobby, toy, game, shops]                                                          |142  |\n",
      "|[equipment, tool, furniture, appliance, rent, al, leasing]                         |134  |\n",
      "|[shoe, shops]                                                                      |185  |\n",
      "|[furniture, home, furnishings, equipment, shops, manufacturers, except, appliances]|182  |\n",
      "|[watch, clock, jewelry, repair, shops]                                             |170  |\n",
      "|[artist, supply, craft, shops]                                                     |193  |\n",
      "|[opticians, optical, goods, eyeglasses]                                            |151  |\n",
      "|[motor, vehicle, supplies, new, parts]                                             |151  |\n",
      "|[books, periodicals, newspapers]                                                   |164  |\n",
      "|[antique, shops, sales, repairs, restoration, services]                            |129  |\n",
      "|[computers, computer, peripheral, equipment, software]                             |181  |\n",
      "|[stationery, office, supplies, printing, writing, paper]                           |161  |\n",
      "|[health, beauty, spas]                                                             |164  |\n",
      "|[bicycle, shops, sales, service]                                                   |170  |\n",
      "|[computer, programming, data, processing, integrated, systems, design, services]   |191  |\n",
      "|[digital, goods, books, movies, music]                                             |195  |\n",
      "|[telecom]                                                                          |125  |\n",
      "|[cable, satellite, pay, television, radio, services]                               |175  |\n",
      "|[music, shops, musical, instruments, pianos, sheet, music]                         |167  |\n",
      "|[florists, supplies, nursery, stock, flowers]                                      |180  |\n",
      "|[art, dealers, galleries]                                                          |112  |\n",
      "|[gift, card, novelty, souvenir, shops]                                             |182  |\n",
      "|[jewelry, watch, clock, silverware, shops]                                         |91   |\n",
      "+-----------------------------------------------------------------------------------+-----+\n",
      "\n"
     ]
    }
   ],
   "source": [
    "preprocessing_distinct_category = merchants_info.groupBy(\"filtered_tokens\").count()\n",
    "preprocessing_distinct_category.show(50,truncate=False)"
   ]
  },
  {
   "cell_type": "markdown",
   "metadata": {},
   "source": [
    "# Text classification"
   ]
  },
  {
   "cell_type": "code",
   "execution_count": 159,
   "metadata": {},
   "outputs": [],
   "source": [
    "# Manually classify all description into 5 classes\n",
    "segments_dict = {\n",
    "    \"Computers, Electronics, and Office Supplies\": [\n",
    "        ['computers', 'computer', 'peripheral', 'equipment', 'software'],\n",
    "        ['computer', 'programming', 'data', 'processing', 'integrated', 'systems', 'design', 'services'],\n",
    "        ['telecom'],\n",
    "        ['cable', 'satellite', 'pay', 'television', 'radio', 'services'],\n",
    "        ['stationery', 'office', 'supplies', 'printing', 'writing', 'paper']\n",
    "    ],\n",
    "    \"Home, Garden, and Furnishings\": [\n",
    "        ['florists', 'supplies', 'nursery', 'stock', 'flowers'],\n",
    "        ['lawn', 'garden', 'supply', 'outlets', 'including', 'nurseries'],\n",
    "        ['tent', 'awning', 'shops'],\n",
    "        ['equipment', 'tool', 'furniture', 'appliance', 'rent', 'al', 'leasing'],\n",
    "        ['furniture', 'home', 'furnishings', 'equipment', 'shops', 'manufacturers', 'except', 'appliances']\n",
    "    ],\n",
    "    \"Books, Media, Arts, Crafts, and Hobbies\": [\n",
    "        ['books', 'periodicals', 'newspapers'],\n",
    "        ['hobby', 'toy', 'game', 'shops'],\n",
    "        ['artist', 'supply', 'craft', 'shops'],\n",
    "        ['digital', 'goods', 'books', 'movies', 'music'],\n",
    "        ['books', 'periodicals', 'newspapers'],\n",
    "        ['music', 'shops', 'musical', 'instruments', 'pianos', 'sheet', 'music'],\n",
    "        ['art', 'dealers', 'galleries'],\n",
    "        ['gift', 'card', 'novelty', 'souvenir', 'shops']\n",
    "    ],\n",
    "    \"Fashion, Personal Accessories, Health, and Beauty\": [\n",
    "        ['opticians', 'optical', 'goods', 'eyeglasses'],\n",
    "        ['health', 'beauty', 'spas'],\n",
    "        ['shoe', 'shops'],\n",
    "        ['watch', 'clock', 'jewelry', 'repair', 'shops'],\n",
    "        ['jewelry', 'watch', 'clock', 'silverware', 'shops']\n",
    "    ],\n",
    "    \"Vehicles, Repairs, and Miscellaneous Services\": [\n",
    "        ['motor', 'vehicle', 'supplies', 'new', 'parts'],\n",
    "        ['antique', 'shops', 'sales', 'repairs', 'restoration', 'services'],\n",
    "        ['bicycle', 'shops', 'sales', 'service'],\n",
    "        ['tent', 'awning', 'shops']\n",
    "    ]\n",
    "}\n",
    "\n",
    "segment_conditions = [\n",
    "    (F.col(\"filtered_tokens\").cast(\"string\") == F.array([F.lit(item) for item in value]).cast(\"string\"), F.lit(key))\n",
    "    for key, values in segments_dict.items() for value in values\n",
    "]"
   ]
  },
  {
   "cell_type": "code",
   "execution_count": 160,
   "metadata": {},
   "outputs": [],
   "source": [
    "# Add the 'segments' column based on the dictionary\n",
    "segments_column = F.lit(None)\n",
    "for condition, segment in segment_conditions:\n",
    "    segments_column = F.when(condition, segment).otherwise(segments_column)\n",
    "merchants_info = merchants_info.withColumn(\"segments\", segments_column)\n"
   ]
  },
  {
   "cell_type": "code",
   "execution_count": 161,
   "metadata": {},
   "outputs": [
    {
     "name": "stdout",
     "output_type": "stream",
     "text": [
      "+------------------------+------------+------------------------------------------------------+-------------+---------+------------------------------------------------------+-----------------------------------------------------------+------------------------------------------------------+-------------------------------------------+\n",
      "|name                    |merchant_abn|category                                              |revenue_level|take_rate|category_clean                                        |tokens                                                     |filtered_tokens                                       |segments                                   |\n",
      "+------------------------+------------+------------------------------------------------------+-------------+---------+------------------------------------------------------+-----------------------------------------------------------+------------------------------------------------------+-------------------------------------------+\n",
      "|Non Feugiat Incorporated|10995883576 |gift, card, novelty, and souvenir shops               |a            |6.22     |gift, card, novelty, and souvenir shops               |[gift, card, novelty, and, souvenir, shops]                |[gift, card, novelty, souvenir, shops]                |Books, Media, Arts, Crafts, and Hobbies    |\n",
      "|Dictum Proin PC         |14626521979 |art dealers and galleries                             |c            |2.81     |art dealers and galleries                             |[art, dealers, and, galleries]                             |[art, dealers, galleries]                             |Books, Media, Arts, Crafts, and Hobbies    |\n",
      "|Et Ltd                  |17009186054 |computers, computer peripheral equipment, and software|a            |6.09     |computers, computer peripheral equipment, and software|[computers, computer, peripheral, equipment, and, software]|[computers, computer, peripheral, equipment, software]|Computers, Electronics, and Office Supplies|\n",
      "+------------------------+------------+------------------------------------------------------+-------------+---------+------------------------------------------------------+-----------------------------------------------------------+------------------------------------------------------+-------------------------------------------+\n",
      "only showing top 3 rows\n",
      "\n"
     ]
    }
   ],
   "source": [
    "merchants_info.show(3, truncate=False)"
   ]
  },
  {
   "cell_type": "code",
   "execution_count": 162,
   "metadata": {},
   "outputs": [
    {
     "name": "stdout",
     "output_type": "stream",
     "text": [
      "+-------------------------------------------------+-----+\n",
      "|segments                                         |count|\n",
      "+-------------------------------------------------+-----+\n",
      "|Home, Garden, and Furnishings                    |649  |\n",
      "|Computers, Electronics, and Office Supplies      |833  |\n",
      "|Books, Media, Arts, Crafts, and Hobbies          |1155 |\n",
      "|Vehicles, Repairs, and Miscellaneous Services    |628  |\n",
      "|Fashion, Personal Accessories, Health, and Beauty|761  |\n",
      "+-------------------------------------------------+-----+\n",
      "\n"
     ]
    }
   ],
   "source": [
    "# Number of merchants for each classes\n",
    "num_merchants = merchants_info.groupBy(\"segments\").count()\n",
    "num_merchants.show(500, truncate=False)"
   ]
  },
  {
   "cell_type": "markdown",
   "metadata": {},
   "source": [
    "# Save merchants with their segments"
   ]
  },
  {
   "cell_type": "code",
   "execution_count": 163,
   "metadata": {},
   "outputs": [],
   "source": [
    "merchants_info = merchants_info.select([\"name\", \"merchant_abn\", \"category\", \"revenue_level\", \"take_rate\",\"segments\"])"
   ]
  },
  {
   "cell_type": "code",
   "execution_count": 164,
   "metadata": {},
   "outputs": [],
   "source": [
    "merchants_info.write.parquet(\"../data/curated/segmented_merchants_info.parquet\", mode = 'overwrite')"
   ]
  }
 ],
 "metadata": {
  "kernelspec": {
   "display_name": "Python 3",
   "language": "python",
   "name": "python3"
  },
  "language_info": {
   "codemirror_mode": {
    "name": "ipython",
    "version": 3
   },
   "file_extension": ".py",
   "mimetype": "text/x-python",
   "name": "python",
   "nbconvert_exporter": "python",
   "pygments_lexer": "ipython3",
   "version": "3.8.10"
  }
 },
 "nbformat": 4,
 "nbformat_minor": 2
}
