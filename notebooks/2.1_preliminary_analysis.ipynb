{
      "cells": [
            {
                  "cell_type": "code",
                  "execution_count": 30,
                  "metadata": {},
                  "outputs": [],
                  "source": [
                        "import os\n",
                        "os.sys.path.append(\"../\")\n",
                        "from scripts.preliminary_analysis import *\n"
                  ]
            },
            {
                  "cell_type": "code",
                  "execution_count": 31,
                  "metadata": {},
                  "outputs": [],
                  "source": [
                        "from pyspark.sql import SparkSession\n",
                        "#  Create a Spark Session\n",
                        "spark = (\n",
                        "    SparkSession.builder.appName(\"Preliminary Data Analysis\")\n",
                        "    .config(\"spark.sql.repl.eagerEval.enabled\", True)\n",
                        "    .config(\"spark.sql.parquet.cacheMetadata\", \"true\")\n",
                        "    .config(\"spark.sql.session.timeZone\", \"Etc/UTC\")\n",
                        "    .config(\"spark.driver.memory\", \"4g\")\n",
                        "    .config(\"spark.executor.memory\", \"2g\")\n",
                        "    .getOrCreate()\n",
                        ")"
                  ]
            },
            {
                  "cell_type": "code",
                  "execution_count": 32,
                  "metadata": {},
                  "outputs": [],
                  "source": [
                        "path = \"../data/curated\""
                  ]
            },
            {
                  "cell_type": "markdown",
                  "metadata": {},
                  "source": [
                        "# Preliminary Data Analysis\n",
                        "\n",
                        "In this notebook, we will conduct a preliminary data analysis on the data that we cleaned or are in the process of cleaning. The following statistics/visualisations will aid us in refining our cleaning pipeline, as well as help us to better understand our variables in preparation for analysis/modelling.\n",
                        "\n",
                        "## Merchants"
                  ]
            },
            {
                  "cell_type": "markdown",
                  "metadata": {},
                  "source": [
                        "Before we conduct any analysis, we would like to check in the merchant ABNs in the `merchant_fp` dataframe exist in the `merchant_info` dataframe. If such ABNs do not exist, we will remove entries in `merchant_fp` that contain those ABNs."
                  ]
            },
            {
                  "cell_type": "code",
                  "execution_count": 33,
                  "metadata": {},
                  "outputs": [
                        {
                              "name": "stdout",
                              "output_type": "stream",
                              "text": [
                                    "Number of entries before the merge: 114\n",
                                    "Number of entries after the merge: 95\n"
                              ]
                        }
                  ],
                  "source": [
                        "# Read merchant datasets in\n",
                        "merchant_info = spark.read.parquet(f\"{path}/merchant_info.parquet\")\n",
                        "merchant_fp = spark.read.parquet(f\"{path}/merchant_fp.parquet\")\n",
                        "\n",
                        "# Merge the dataset\n",
                        "print(f\"Number of entries before the merge: {merchant_fp.count()}\")\n",
                        "merchant_fp = merchant_fp.join(merchant_info, on = ['merchant_abn'], how = 'inner').select('merchant_abn', 'order_datetime', 'fraud_probability')\n",
                        "print(f'Number of entries after the merge: {merchant_fp.count()}')"
                  ]
            },
            {
                  "cell_type": "markdown",
                  "metadata": {},
                  "source": [
                        "We can see that approximately 16% of the entries in `merchant_fp` are invalid. Now that the invalid entries are taken care of, we can go ahead and check the summary statistics. "
                  ]
            },
            {
                  "cell_type": "code",
                  "execution_count": 34,
                  "metadata": {},
                  "outputs": [
                        {
                              "name": "stdout",
                              "output_type": "stream",
                              "text": [
                                    "+-------+-----------------+\n",
                                    "|summary|        take_rate|\n",
                                    "+-------+-----------------+\n",
                                    "|  count|             4026|\n",
                                    "|   mean|4.397575757575762|\n",
                                    "| stddev| 1.78259536794309|\n",
                                    "|    min|              0.1|\n",
                                    "|    max|              7.0|\n",
                                    "+-------+-----------------+\n",
                                    "\n",
                                    "+-------+------------------+\n",
                                    "|summary| fraud_probability|\n",
                                    "+-------+------------------+\n",
                                    "|  count|                95|\n",
                                    "|   mean|39.517386707313456|\n",
                                    "| stddev|16.617441988139742|\n",
                                    "|    min| 18.21089142894488|\n",
                                    "|    max| 91.09606847149965|\n",
                                    "+-------+------------------+\n",
                                    "\n",
                                    "Total number of merchants: 4026\n",
                                    "Number of merchant with fraud probability in transactions: 48\n"
                              ]
                        }
                  ],
                  "source": [
                        "# Summary Statistics\n",
                        "merchant_info.select(\"take_rate\").describe().show()\n",
                        "merchant_fp.select(\"fraud_probability\").describe().show()\n",
                        "\n",
                        "# Closer look at proportion of merchants with fraud prob data\n",
                        "print(f'Total number of merchants: {merchant_info.select(\"merchant_abn\").distinct().count()}')\n",
                        "print(f'Number of merchant with fraud probability in transactions: {merchant_fp.select(\"merchant_abn\").distinct().count()}')"
                  ]
            },
            {
                  "cell_type": "markdown",
                  "metadata": {},
                  "source": [
                        "From the summary stats of the two merchant datasets, the notable columns are `take_rate` and `fraud_probability`. The other columns are not interpretable in terms of summary stats.\n",
                        "\n",
                        "Looking at the mins/maxs of both these columns, they appear to fall within a reasonable defined range. More analysis will be required to have a closer look at their distributions. (Skewed or balanced).\n",
                        "\n",
                        "We can see that there are only *48* merchants with a fraud probability out of *4026* which is only about *1%*. This highlights the need to create a model to help us predict merchant fraud probability for imputation, which in turn will play a role in helping us determine which transactions are valid. "
                  ]
            },
            {
                  "cell_type": "code",
                  "execution_count": 35,
                  "metadata": {},
                  "outputs": [
                        {
                              "data": {
                                    "text/html": [
                                          "<table border='1'>\n",
                                          "<tr><th>merchant_abn</th><th>num_transaction_with_prob</th><th>avg_prob</th></tr>\n",
                                          "<tr><td>90568944804</td><td>3</td><td>30.72298492113958</td></tr>\n",
                                          "<tr><td>27093785141</td><td>3</td><td>28.88064813052203</td></tr>\n",
                                          "<tr><td>76968105359</td><td>1</td><td>68.27843632543912</td></tr>\n",
                                          "<tr><td>19492220327</td><td>8</td><td>31.958306675667544</td></tr>\n",
                                          "<tr><td>97884414539</td><td>1</td><td>89.79919971536573</td></tr>\n",
                                          "<tr><td>93292821052</td><td>1</td><td>66.58725735032715</td></tr>\n",
                                          "<tr><td>83199298021</td><td>6</td><td>31.934902970741046</td></tr>\n",
                                          "<tr><td>43083074133</td><td>1</td><td>48.66890735193894</td></tr>\n",
                                          "<tr><td>15157368385</td><td>1</td><td>64.2774131928303</td></tr>\n",
                                          "<tr><td>76767266140</td><td>1</td><td>29.539733207182703</td></tr>\n",
                                          "<tr><td>96680767841</td><td>1</td><td>29.555244690425017</td></tr>\n",
                                          "<tr><td>35909341340</td><td>1</td><td>29.13305311007307</td></tr>\n",
                                          "<tr><td>72058040180</td><td>1</td><td>33.71875978884334</td></tr>\n",
                                          "<tr><td>39649557865</td><td>1</td><td>28.690204286050616</td></tr>\n",
                                          "<tr><td>48534649627</td><td>3</td><td>28.56793296472796</td></tr>\n",
                                          "<tr><td>85482742429</td><td>1</td><td>70.88131110541714</td></tr>\n",
                                          "<tr><td>82368304209</td><td>2</td><td>31.472066721009654</td></tr>\n",
                                          "<tr><td>35575706403</td><td>1</td><td>91.09606847149965</td></tr>\n",
                                          "<tr><td>79827781481</td><td>2</td><td>29.735159306496</td></tr>\n",
                                          "<tr><td>32258116290</td><td>1</td><td>61.92380860960476</td></tr>\n",
                                          "</table>\n",
                                          "only showing top 20 rows\n"
                                    ],
                                    "text/plain": [
                                          "+------------+-------------------------+------------------+\n",
                                          "|merchant_abn|num_transaction_with_prob|          avg_prob|\n",
                                          "+------------+-------------------------+------------------+\n",
                                          "| 90568944804|                        3| 30.72298492113958|\n",
                                          "| 27093785141|                        3| 28.88064813052203|\n",
                                          "| 76968105359|                        1| 68.27843632543912|\n",
                                          "| 19492220327|                        8|31.958306675667544|\n",
                                          "| 97884414539|                        1| 89.79919971536573|\n",
                                          "| 93292821052|                        1| 66.58725735032715|\n",
                                          "| 83199298021|                        6|31.934902970741046|\n",
                                          "| 43083074133|                        1| 48.66890735193894|\n",
                                          "| 15157368385|                        1|  64.2774131928303|\n",
                                          "| 76767266140|                        1|29.539733207182703|\n",
                                          "| 96680767841|                        1|29.555244690425017|\n",
                                          "| 35909341340|                        1| 29.13305311007307|\n",
                                          "| 72058040180|                        1| 33.71875978884334|\n",
                                          "| 39649557865|                        1|28.690204286050616|\n",
                                          "| 48534649627|                        3| 28.56793296472796|\n",
                                          "| 85482742429|                        1| 70.88131110541714|\n",
                                          "| 82368304209|                        2|31.472066721009654|\n",
                                          "| 35575706403|                        1| 91.09606847149965|\n",
                                          "| 79827781481|                        2|   29.735159306496|\n",
                                          "| 32258116290|                        1| 61.92380860960476|\n",
                                          "+------------+-------------------------+------------------+\n",
                                          "only showing top 20 rows"
                                    ]
                              },
                              "execution_count": 35,
                              "metadata": {},
                              "output_type": "execute_result"
                        }
                  ],
                  "source": [
                        "# Examine the frequency of fraud_prob for merchants and the average fraud prob accordingly\n",
                        "agg_merchant_fp = merchant_fp.groupBy(\"merchant_abn\").agg(\n",
                        "    F.count(F.col(\"merchant_abn\")).alias(\"num_transaction_with_prob\"),\n",
                        "    F.avg(\"fraud_probability\").alias(\"avg_prob\")\n",
                        ")\n",
                        "agg_merchant_fp#.filter(F.col(\"num_transaction_with_prob\") > 1)"
                  ]
            },
            {
                  "cell_type": "markdown",
                  "metadata": {},
                  "source": [
                        "Though the table only displays the first 20 rows, it is clear that some merchants have more than one transaction with fraud probability.\n",
                        "On the surface, there does not seem to be a correlation between number of transactions with fraud and the average fraud prob, but this may be further explored later on. "
                  ]
            },
            {
                  "cell_type": "markdown",
                  "metadata": {},
                  "source": [
                        "## Consumer"
                  ]
            },
            {
                  "cell_type": "code",
                  "execution_count": 36,
                  "metadata": {},
                  "outputs": [
                        {
                              "name": "stdout",
                              "output_type": "stream",
                              "text": [
                                    "Number of entries before the merge: 34747\n",
                                    "Number of entries after the merge: 34747\n"
                              ]
                        }
                  ],
                  "source": [
                        "# Read cleaned consumer data in\n",
                        "consumer_fp = spark.read.parquet(f\"{path}/consumer_fp.parquet\")\n",
                        "consumer_info = spark.read.parquet(f\"{path}/consumer_info.parquet\")\n",
                        "\n",
                        "# Merge the dataset\n",
                        "print(f\"Number of entries before the merge: {consumer_fp.count()}\")\n",
                        "consumer_fp = consumer_fp.join(consumer_info, on = ['consumer_id'], how = 'inner').select('consumer_id', 'order_datetime', 'fraud_probability')\n",
                        "print(f'Number of entries after the merge: {consumer_fp.count()}')"
                  ]
            },
            {
                  "cell_type": "code",
                  "execution_count": 37,
                  "metadata": {},
                  "outputs": [
                        {
                              "name": "stdout",
                              "output_type": "stream",
                              "text": [
                                    "+-------+------------------+\n",
                                    "|summary| fraud_probability|\n",
                                    "+-------+------------------+\n",
                                    "|  count|             34747|\n",
                                    "|   mean|14.945360216300289|\n",
                                    "| stddev|  9.39809995185383|\n",
                                    "|    min| 8.287143531552802|\n",
                                    "|    max| 99.24738020302328|\n",
                                    "+-------+------------------+\n",
                                    "\n"
                              ]
                        },
                        {
                              "data": {
                                    "text/html": [
                                          "<table border='1'>\n",
                                          "<tr><th>state</th><th>num_consumer</th></tr>\n",
                                          "<tr><td>NT</td><td>7764</td></tr>\n",
                                          "<tr><td>ACT</td><td>4664</td></tr>\n",
                                          "<tr><td>SA</td><td>54973</td></tr>\n",
                                          "<tr><td>TAS</td><td>18878</td></tr>\n",
                                          "<tr><td>WA</td><td>79146</td></tr>\n",
                                          "<tr><td>QLD</td><td>72861</td></tr>\n",
                                          "<tr><td>VIC</td><td>117525</td></tr>\n",
                                          "<tr><td>NSW</td><td>144188</td></tr>\n",
                                          "</table>\n"
                                    ],
                                    "text/plain": [
                                          "+-----+------------+\n",
                                          "|state|num_consumer|\n",
                                          "+-----+------------+\n",
                                          "|   NT|        7764|\n",
                                          "|  ACT|        4664|\n",
                                          "|   SA|       54973|\n",
                                          "|  TAS|       18878|\n",
                                          "|   WA|       79146|\n",
                                          "|  QLD|       72861|\n",
                                          "|  VIC|      117525|\n",
                                          "|  NSW|      144188|\n",
                                          "+-----+------------+"
                                    ]
                              },
                              "execution_count": 37,
                              "metadata": {},
                              "output_type": "execute_result"
                        }
                  ],
                  "source": [
                        "# Summary statistics\n",
                        "consumer_fp.select(\"fraud_probability\").describe().show()\n",
                        "consumer_info.groupBy(\"state\").agg(\n",
                        "    F.count(F.col(\"consumer_id\")).alias(\"num_consumer\")\n",
                        ")"
                  ]
            },
            {
                  "cell_type": "markdown",
                  "metadata": {},
                  "source": [
                        "From the summary statistics above, the only column interpretable is 'fraud_probability'. \n",
                        "\n",
                        "We can see that fraud_probability is within a reasonable defined range, with a minimum of 8.28 and a maximum of about 99.24. Further discussion may be required to determine whether or not it would be beneficial to conduct outlier removal.\n",
                        "\n",
                        "We can also see that most consumer are from Victoria and New South Wales. Nothern Territory seems to have the least amount of buyers"
                  ]
            },
            {
                  "cell_type": "markdown",
                  "metadata": {},
                  "source": [
                        "## Transactions"
                  ]
            },
            {
                  "cell_type": "markdown",
                  "metadata": {},
                  "source": [
                        "Summary statistic of consumers fraud probability."
                  ]
            },
            {
                  "cell_type": "code",
                  "execution_count": 41,
                  "metadata": {},
                  "outputs": [
                        {
                              "name": "stdout",
                              "output_type": "stream",
                              "text": [
                                    "+-------+------------------+\n",
                                    "|summary|      dollar_value|\n",
                                    "+-------+------------------+\n",
                                    "|  count|          11933087|\n",
                                    "|   mean|159.82515760274794|\n",
                                    "| stddev| 465.5876197570281|\n",
                                    "|    min|1.0000012988409446|\n",
                                    "|    max|105193.88578925544|\n",
                                    "+-------+------------------+\n",
                                    "\n"
                              ]
                        }
                  ],
                  "source": [
                        "# Read in transactions dataset\n",
                        "transactions = spark.read.parquet(f\"{path}/transactions.parquet\")\n",
                        "transactions = transactions.drop(\"consumer_fp\", \"merchant_fp\")\n",
                        "\n",
                        "# Summary Statistics\n",
                        "transactions.select(F.col(\"dollar_value\")).describe().show()"
                  ]
            },
            {
                  "cell_type": "markdown",
                  "metadata": {},
                  "source": [
                        "From the summary statistics observed, we can see that dollar value has a minimum of $0.00000009.\n",
                        "\n",
                        "This is significantly lower than even 1 cent. Therefore, it would appear to be appropriate to consider such transaction is invalid. We decided to remove any transations with a dollar value that is less than $1.00 based on the assumption that in real life, the cheapest thing we've encounter is $1.39 (a bottle of fake coke in Aldi). However, we think it's reasonable to keep transactions with high dollar value as it might be a good indication of a fraud."
                  ]
            },
            {
                  "cell_type": "code",
                  "execution_count": 42,
                  "metadata": {},
                  "outputs": [
                        {
                              "name": "stdout",
                              "output_type": "stream",
                              "text": [
                                    "Number of rows before outlier removal: 11933087\n",
                                    "Number of rows after outlier removal: 11933087\n",
                                    "Net change (%): 0.0\n"
                              ]
                        }
                  ],
                  "source": [
                        "initial_rows =  transactions.count()\n",
                        "print(f'Number of rows before outlier removal: {initial_rows}')\n",
                        "transactions = transactions.filter(F.col(\"dollar_value\") > 1)\n",
                        "\n",
                        "final_rows = transactions.count()\n",
                        "print(f'Number of rows after outlier removal: {final_rows}')\n",
                        "print(f\"Net change (%): {round( (initial_rows - final_rows)/initial_rows * 100, 2 )}\")"
                  ]
            },
            {
                  "cell_type": "code",
                  "execution_count": 43,
                  "metadata": {},
                  "outputs": [
                        {
                              "data": {
                                    "text/plain": [
                                          "'\\n\\navg_revenue_level = merchant_info.groupBy(\"revenue_level\").agg(\\n    F.count(F.col(\"commission_amount\")).alias(\"num_merchant\"),\\n    F.sum(F.col(\"total_orders\")).alias(\"total_orders\"),\\n    F.round(F.avg(F.col(\"commission_amount\")),2).alias(\"avg_commission_amount\"),\\n    F.round(F.sum(F.col(\"commission_amount\")),2).alias(\"total_commission_amount\"),\\n)\\n# avg_revenue_level = avg_revenue_level.withColumn(\"total_commission_amount\", F.format_number(\"total_commission_amount\", 2))\\navg_revenue_level.withColumns(\\n    {\"avg_commission_amount\": F.format_number(\"avg_commission_amount\",2),\\n    \"total_commission_amount\": F.format_number(\"total_commission_amount\",2),}\\n)\\n\\n'"
                                    ]
                              },
                              "execution_count": 43,
                              "metadata": {},
                              "output_type": "execute_result"
                        }
                  ],
                  "source": [
                        "\"\"\"\n",
                        "\n",
                        "avg_revenue_level = merchant_info.groupBy(\"revenue_level\").agg(\n",
                        "    F.count(F.col(\"commission_amount\")).alias(\"num_merchant\"),\n",
                        "    F.sum(F.col(\"total_orders\")).alias(\"total_orders\"),\n",
                        "    F.round(F.avg(F.col(\"commission_amount\")),2).alias(\"avg_commission_amount\"),\n",
                        "    F.round(F.sum(F.col(\"commission_amount\")),2).alias(\"total_commission_amount\"),\n",
                        ")\n",
                        "# avg_revenue_level = avg_revenue_level.withColumn(\"total_commission_amount\", F.format_number(\"total_commission_amount\", 2))\n",
                        "avg_revenue_level.withColumns(\n",
                        "    {\"avg_commission_amount\": F.format_number(\"avg_commission_amount\",2),\n",
                        "    \"total_commission_amount\": F.format_number(\"total_commission_amount\",2),}\n",
                        ")\n",
                        "\n",
                        "\"\"\""
                  ]
            },
            {
                  "cell_type": "markdown",
                  "metadata": {},
                  "source": [
                        "# Exploratory data analysis"
                  ]
            },
            {
                  "cell_type": "markdown",
                  "metadata": {},
                  "source": [
                        "# Merge Datasets"
                  ]
            },
            {
                  "cell_type": "markdown",
                  "metadata": {},
                  "source": [
                        "We can now merge the transaction with the customer and mechant fraud probabilty data."
                  ]
            },
            {
                  "cell_type": "code",
                  "execution_count": 44,
                  "metadata": {},
                  "outputs": [
                        {
                              "name": "stdout",
                              "output_type": "stream",
                              "text": [
                                    "Number of rows before the merge: 11933087\n"
                              ]
                        },
                        {
                              "name": "stderr",
                              "output_type": "stream",
                              "text": [
                                    "                                                                                \r"
                              ]
                        },
                        {
                              "name": "stdout",
                              "output_type": "stream",
                              "text": [
                                    "Number of rows after the merge with consumer fraud probability: 11933087\n"
                              ]
                        },
                        {
                              "name": "stderr",
                              "output_type": "stream",
                              "text": [
                                    "                                                                                \r"
                              ]
                        },
                        {
                              "name": "stdout",
                              "output_type": "stream",
                              "text": [
                                    "Number of rows after the merge with merchant fraud probability: 11933087\n"
                              ]
                        },
                        {
                              "name": "stderr",
                              "output_type": "stream",
                              "text": [
                                    "                                                                                \r"
                              ]
                        },
                        {
                              "name": "stdout",
                              "output_type": "stream",
                              "text": [
                                    "Number of rows after the merge with merchant information: 11933087\n"
                              ]
                        }
                  ],
                  "source": [
                        "print(f'Number of rows before the merge: {transactions.count()}')\n",
                        "\n",
                        "# join with consumer fraud prob and rename the col\n",
                        "transactions_df = transactions.join(consumer_fp, on = ['consumer_id', 'order_datetime'], how='left')\n",
                        "transactions_df = transactions_df.withColumnRenamed(\"fraud_probability\", \"consumer_fp\")\n",
                        "print(f'Number of rows after the merge with consumer fraud probability: {transactions_df.count()}')\n",
                        "\n",
                        "# Join with merchant fraud prob and rename the col\n",
                        "transactions_df = transactions_df.join(merchant_fp, on = ['merchant_abn', 'order_datetime'], how='left')\n",
                        "transactions_df = transactions_df.withColumnRenamed(\"fraud_probability\", \"merchant_fp\")\n",
                        "print(f'Number of rows after the merge with merchant fraud probability: {transactions_df.count()}')\n",
                        "\n",
                        "transactions_df = transactions_df.join(merchant_info, on = ['merchant_abn'], how='inner')\n",
                        "print(f'Number of rows after the merge with merchant information: {transactions_df.count()}')"
                  ]
            },
            {
                  "cell_type": "markdown",
                  "metadata": {},
                  "source": [
                        "We can see that after we merge the transactions data with the merchant information, there is a reduction in the number of entries. This means that some of the merchant ABN in the transactions are invalid."
                  ]
            },
            {
                  "cell_type": "markdown",
                  "metadata": {},
                  "source": [
                        "Let's plot the distribution of dollar value of transactions, consumer and merchant fraud probability. We applied log transformation to all the variables as we suspect that the data is heaviliy skewed."
                  ]
            },
            {
                  "cell_type": "code",
                  "execution_count": 45,
                  "metadata": {},
                  "outputs": [
                        {
                              "name": "stderr",
                              "output_type": "stream",
                              "text": [
                                    "                                                                                \r"
                              ]
                        }
                  ],
                  "source": [
                        "# Convert columns to Pandas for plotting\n",
                        "df_pandas = transactions_df.select(\"dollar_value\", \"merchant_fp\", \"consumer_fp\").toPandas()"
                  ]
            },
            {
                  "cell_type": "code",
                  "execution_count": 46,
                  "metadata": {},
                  "outputs": [
                        {
                              "data": {
                                    "image/png": "[encoded data removed]",
                                    "text/plain": [
                                          "<Figure size 720x432 with 1 Axes>"
                                    ]
                              },
                              "metadata": {
                                    "needs_background": "light"
                              },
                              "output_type": "display_data"
                        },
                        {
                              "data": {
                                    "image/png": "[encoded data removed]",
                                    "text/plain": [
                                          "<Figure size 720x432 with 1 Axes>"
                                    ]
                              },
                              "metadata": {
                                    "needs_background": "light"
                              },
                              "output_type": "display_data"
                        },
                        {
                              "data": {
                                    "image/png": "[encoded data removed]",
                                    "text/plain": [
                                          "<Figure size 720x432 with 1 Axes>"
                                    ]
                              },
                              "metadata": {
                                    "needs_background": "light"
                              },
                              "output_type": "display_data"
                        }
                  ],
                  "source": [
                        "import matplotlib.pyplot as plt\n",
                        "# Plot the distribution for dollar_value with better scaling\n",
                        "plt.figure(figsize=(10, 6))\n",
                        "plt.hist(df_pandas['dollar_value'], bins=50, color='blue', alpha=0.7, log=True)  # Apply log scale to y-axis\n",
                        "plt.title(\"Dollar Value Distribution (Before Removing Outliers)\")\n",
                        "plt.xlabel(\"Dollar Value\")\n",
                        "plt.ylabel(\"Frequency (log scale)\")\n",
                        "plt.xlim([0, 100000])  # Adjust x-axis limits\n",
                        "plt.savefig(\"../plots/dollar_value_dist\")\n",
                        "plt.show()\n",
                        "\n",
                        "# Plot the distribution for fraud_probability (merchant) with better scaling\n",
                        "plt.figure(figsize=(10, 6))\n",
                        "plt.hist(df_pandas['merchant_fp'], bins=50, color='green', alpha=0.7, log=True)  # Apply log scale to y-axis\n",
                        "plt.title(\"Merchant Fraud Probability Distribution (Before Removing Outliers)\")\n",
                        "plt.xlabel(\"Merchant Fraud Probability\")\n",
                        "plt.ylabel(\"Frequency (log scale)\")\n",
                        "plt.xlim([20, 70])  # Adjust x-axis limits\n",
                        "plt.savefig(\"../plots/merchant_fp_dist\")\n",
                        "plt.show()\n",
                        "\n",
                        "# Plot the distribution for fraud_probability (consumer) with better scaling\n",
                        "plt.figure(figsize=(10, 6))\n",
                        "plt.hist(df_pandas['consumer_fp'], bins=50, color='red', alpha=0.7, log=True)  # Apply log scale to y-axis\n",
                        "plt.title(\"Consumer Fraud Probability Distribution (Before Removing Outliers)\")\n",
                        "plt.xlabel(\"Consumer Fraud Probability\")\n",
                        "plt.ylabel(\"Frequency (log scale)\")\n",
                        "plt.xlim([0, 100])  # Adjust x-axis limits\n",
                        "plt.savefig(\"../plots/consumer_fp_dist\")\n",
                        "plt.show()"
                  ]
            },
            {
                  "cell_type": "markdown",
                  "metadata": {},
                  "source": [
                        "As we can see, the distribution of the 3 quantities are heavily skewed even after a log-transformation was applied. Though, this characteristic is desirable for flagging fraudulent transactions.\n",
                        "\n",
                        "Since our ultimate goal is to select 100 merchants to join the BNPL firm, it's worthwhile to see top merchants in term of sales."
                  ]
            },
            {
                  "cell_type": "code",
                  "execution_count": 47,
                  "metadata": {},
                  "outputs": [
                        {
                              "name": "stderr",
                              "output_type": "stream",
                              "text": [
                                    "[Stage 381:==================================>                    (13 + 8) / 21]\r"
                              ]
                        },
                        {
                              "name": "stdout",
                              "output_type": "stream",
                              "text": [
                                    "+------------+-----------------+-------------------+------------+\n",
                                    "|merchant_abn|    total_revenue|average_order_value|total_orders|\n",
                                    "+------------+-----------------+-------------------+------------+\n",
                                    "| 39649557865|8703257.424976714| 449.31633582739875|       19370|\n",
                                    "| 27093785141|8682017.660520375|  377.1510712650032|       23020|\n",
                                    "| 96680767841| 8665512.55273465|  315.1095473721691|       27500|\n",
                                    "| 79827781481|8648065.346212229| 2036.2762764803929|        4247|\n",
                                    "| 31334588839|8599022.696520388|  6350.829170251394|        1354|\n",
                                    "| 32709545238| 8587654.70782727|  751.3258712009861|       11430|\n",
                                    "| 82368304209|8549780.825446948| 1866.3568708681398|        4581|\n",
                                    "| 50315283629|8500974.359562635| 322.36071288774167|       26371|\n",
                                    "| 90568944804|8500425.640651293|  898.8501259015854|        9457|\n",
                                    "| 38700038932|8456523.178606164| 1337.2111288118538|        6324|\n",
                                    "+------------+-----------------+-------------------+------------+\n",
                                    "only showing top 10 rows\n",
                                    "\n"
                              ]
                        },
                        {
                              "name": "stderr",
                              "output_type": "stream",
                              "text": [
                                    "                                                                                \r"
                              ]
                        }
                  ],
                  "source": [
                        "# Revenue analysis\n",
                        "merchant_sales = transactions_df.groupBy(\"merchant_abn\").agg(\n",
                        "    F.sum(\"dollar_value\").alias(\"total_revenue\"),\n",
                        "    F.avg(\"dollar_value\").alias(\"average_order_value\"),\n",
                        "    F.count(\"dollar_value\").alias(\"total_orders\")\n",
                        ")\n",
                        "\n",
                        "# Rank merchants by total revenue in descending order\n",
                        "merchant_sales = merchant_sales.orderBy(F.col(\"total_revenue\").desc())\n",
                        "merchant_sales.show(10)"
                  ]
            },
            {
                  "cell_type": "markdown",
                  "metadata": {},
                  "source": [
                        "We also want to see how much the BNPL firm will make if they select the merchants. We will denote this value as `total_commission` and it is defined as:\n",
                        "$$\\text{Total commission} = \\text{Revenue level} \\times \\text{Merchant's total revenue} $$\n"
                  ]
            },
            {
                  "cell_type": "code",
                  "execution_count": 48,
                  "metadata": {},
                  "outputs": [
                        {
                              "ename": "AnalysisException",
                              "evalue": "[AMBIGUOUS_REFERENCE] Reference `take_rate` is ambiguous, could be: [`take_rate`, `take_rate`].",
                              "output_type": "error",
                              "traceback": [
                                    "\u001b[0;31m---------------------------------------------------------------------------\u001b[0m",
                                    "\u001b[0;31mAnalysisException\u001b[0m                         Traceback (most recent call last)",
                                    "Input \u001b[0;32mIn [48]\u001b[0m, in \u001b[0;36m<cell line: 3>\u001b[0;34m()\u001b[0m\n\u001b[1;32m      1\u001b[0m \u001b[38;5;66;03m# Profitability analysis\u001b[39;00m\n\u001b[1;32m      2\u001b[0m \u001b[38;5;66;03m# Calculate net revenue at the transaction level before aggregation\u001b[39;00m\n\u001b[0;32m----> 3\u001b[0m merchant_revenue \u001b[38;5;241m=\u001b[39m \u001b[43mtransactions_df\u001b[49m\u001b[38;5;241;43m.\u001b[39;49m\u001b[43mwithColumn\u001b[49m\u001b[43m(\u001b[49m\n\u001b[1;32m      4\u001b[0m \u001b[43m    \u001b[49m\u001b[38;5;124;43m\"\u001b[39;49m\u001b[38;5;124;43mcommission_value\u001b[39;49m\u001b[38;5;124;43m\"\u001b[39;49m\u001b[43m,\u001b[49m\u001b[43m \u001b[49m\u001b[43mF\u001b[49m\u001b[38;5;241;43m.\u001b[39;49m\u001b[43mcol\u001b[49m\u001b[43m(\u001b[49m\u001b[38;5;124;43m\"\u001b[39;49m\u001b[38;5;124;43mdollar_value\u001b[39;49m\u001b[38;5;124;43m\"\u001b[39;49m\u001b[43m)\u001b[49m\u001b[43m \u001b[49m\u001b[38;5;241;43m*\u001b[39;49m\u001b[43m \u001b[49m\u001b[43mF\u001b[49m\u001b[38;5;241;43m.\u001b[39;49m\u001b[43mcol\u001b[49m\u001b[43m(\u001b[49m\u001b[38;5;124;43m\"\u001b[39;49m\u001b[38;5;124;43mtake_rate\u001b[39;49m\u001b[38;5;124;43m\"\u001b[39;49m\u001b[43m)\u001b[49m\u001b[38;5;241;43m/\u001b[39;49m\u001b[38;5;241;43m100\u001b[39;49m\n\u001b[1;32m      5\u001b[0m \u001b[43m)\u001b[49m\n\u001b[1;32m      7\u001b[0m \u001b[38;5;66;03m# Aggregate net_revenue at the merchant level\u001b[39;00m\n\u001b[1;32m      8\u001b[0m merchant_profitability \u001b[38;5;241m=\u001b[39m merchant_revenue\u001b[38;5;241m.\u001b[39mgroupBy(\u001b[38;5;124m\"\u001b[39m\u001b[38;5;124mmerchant_abn\u001b[39m\u001b[38;5;124m\"\u001b[39m)\u001b[38;5;241m.\u001b[39magg(\n\u001b[1;32m      9\u001b[0m     F\u001b[38;5;241m.\u001b[39msum(\u001b[38;5;124m\"\u001b[39m\u001b[38;5;124mcommission_value\u001b[39m\u001b[38;5;124m\"\u001b[39m)\u001b[38;5;241m.\u001b[39malias(\u001b[38;5;124m\"\u001b[39m\u001b[38;5;124mtotal_commission\u001b[39m\u001b[38;5;124m\"\u001b[39m),\n\u001b[1;32m     10\u001b[0m     F\u001b[38;5;241m.\u001b[39msum(\u001b[38;5;124m\"\u001b[39m\u001b[38;5;124mdollar_value\u001b[39m\u001b[38;5;124m\"\u001b[39m)\u001b[38;5;241m.\u001b[39malias(\u001b[38;5;124m\"\u001b[39m\u001b[38;5;124mtotal_revenue\u001b[39m\u001b[38;5;124m\"\u001b[39m),\n\u001b[0;32m   (...)\u001b[0m\n\u001b[1;32m     14\u001b[0m     F\u001b[38;5;241m.\u001b[39mavg(\u001b[38;5;124m\"\u001b[39m\u001b[38;5;124mconsumer_fp\u001b[39m\u001b[38;5;124m\"\u001b[39m)\u001b[38;5;241m.\u001b[39malias(\u001b[38;5;124m\"\u001b[39m\u001b[38;5;124mconsumer_avg_fp\u001b[39m\u001b[38;5;124m\"\u001b[39m)\n\u001b[1;32m     15\u001b[0m )\n",
                                    "File \u001b[0;32m~/.local/lib/python3.8/site-packages/pyspark/sql/dataframe.py:5174\u001b[0m, in \u001b[0;36mDataFrame.withColumn\u001b[0;34m(self, colName, col)\u001b[0m\n\u001b[1;32m   5169\u001b[0m \u001b[38;5;28;01mif\u001b[39;00m \u001b[38;5;129;01mnot\u001b[39;00m \u001b[38;5;28misinstance\u001b[39m(col, Column):\n\u001b[1;32m   5170\u001b[0m     \u001b[38;5;28;01mraise\u001b[39;00m PySparkTypeError(\n\u001b[1;32m   5171\u001b[0m         error_class\u001b[38;5;241m=\u001b[39m\u001b[38;5;124m\"\u001b[39m\u001b[38;5;124mNOT_COLUMN\u001b[39m\u001b[38;5;124m\"\u001b[39m,\n\u001b[1;32m   5172\u001b[0m         message_parameters\u001b[38;5;241m=\u001b[39m{\u001b[38;5;124m\"\u001b[39m\u001b[38;5;124marg_name\u001b[39m\u001b[38;5;124m\"\u001b[39m: \u001b[38;5;124m\"\u001b[39m\u001b[38;5;124mcol\u001b[39m\u001b[38;5;124m\"\u001b[39m, \u001b[38;5;124m\"\u001b[39m\u001b[38;5;124marg_type\u001b[39m\u001b[38;5;124m\"\u001b[39m: \u001b[38;5;28mtype\u001b[39m(col)\u001b[38;5;241m.\u001b[39m\u001b[38;5;18m__name__\u001b[39m},\n\u001b[1;32m   5173\u001b[0m     )\n\u001b[0;32m-> 5174\u001b[0m \u001b[38;5;28;01mreturn\u001b[39;00m DataFrame(\u001b[38;5;28;43mself\u001b[39;49m\u001b[38;5;241;43m.\u001b[39;49m\u001b[43m_jdf\u001b[49m\u001b[38;5;241;43m.\u001b[39;49m\u001b[43mwithColumn\u001b[49m\u001b[43m(\u001b[49m\u001b[43mcolName\u001b[49m\u001b[43m,\u001b[49m\u001b[43m \u001b[49m\u001b[43mcol\u001b[49m\u001b[38;5;241;43m.\u001b[39;49m\u001b[43m_jc\u001b[49m\u001b[43m)\u001b[49m, \u001b[38;5;28mself\u001b[39m\u001b[38;5;241m.\u001b[39msparkSession)\n",
                                    "File \u001b[0;32m~/.local/lib/python3.8/site-packages/py4j/java_gateway.py:1322\u001b[0m, in \u001b[0;36mJavaMember.__call__\u001b[0;34m(self, *args)\u001b[0m\n\u001b[1;32m   1316\u001b[0m command \u001b[38;5;241m=\u001b[39m proto\u001b[38;5;241m.\u001b[39mCALL_COMMAND_NAME \u001b[38;5;241m+\u001b[39m\\\n\u001b[1;32m   1317\u001b[0m     \u001b[38;5;28mself\u001b[39m\u001b[38;5;241m.\u001b[39mcommand_header \u001b[38;5;241m+\u001b[39m\\\n\u001b[1;32m   1318\u001b[0m     args_command \u001b[38;5;241m+\u001b[39m\\\n\u001b[1;32m   1319\u001b[0m     proto\u001b[38;5;241m.\u001b[39mEND_COMMAND_PART\n\u001b[1;32m   1321\u001b[0m answer \u001b[38;5;241m=\u001b[39m \u001b[38;5;28mself\u001b[39m\u001b[38;5;241m.\u001b[39mgateway_client\u001b[38;5;241m.\u001b[39msend_command(command)\n\u001b[0;32m-> 1322\u001b[0m return_value \u001b[38;5;241m=\u001b[39m \u001b[43mget_return_value\u001b[49m\u001b[43m(\u001b[49m\n\u001b[1;32m   1323\u001b[0m \u001b[43m    \u001b[49m\u001b[43manswer\u001b[49m\u001b[43m,\u001b[49m\u001b[43m \u001b[49m\u001b[38;5;28;43mself\u001b[39;49m\u001b[38;5;241;43m.\u001b[39;49m\u001b[43mgateway_client\u001b[49m\u001b[43m,\u001b[49m\u001b[43m \u001b[49m\u001b[38;5;28;43mself\u001b[39;49m\u001b[38;5;241;43m.\u001b[39;49m\u001b[43mtarget_id\u001b[49m\u001b[43m,\u001b[49m\u001b[43m \u001b[49m\u001b[38;5;28;43mself\u001b[39;49m\u001b[38;5;241;43m.\u001b[39;49m\u001b[43mname\u001b[49m\u001b[43m)\u001b[49m\n\u001b[1;32m   1325\u001b[0m \u001b[38;5;28;01mfor\u001b[39;00m temp_arg \u001b[38;5;129;01min\u001b[39;00m temp_args:\n\u001b[1;32m   1326\u001b[0m     \u001b[38;5;28;01mif\u001b[39;00m \u001b[38;5;28mhasattr\u001b[39m(temp_arg, \u001b[38;5;124m\"\u001b[39m\u001b[38;5;124m_detach\u001b[39m\u001b[38;5;124m\"\u001b[39m):\n",
                                    "File \u001b[0;32m~/.local/lib/python3.8/site-packages/pyspark/errors/exceptions/captured.py:185\u001b[0m, in \u001b[0;36mcapture_sql_exception.<locals>.deco\u001b[0;34m(*a, **kw)\u001b[0m\n\u001b[1;32m    181\u001b[0m converted \u001b[38;5;241m=\u001b[39m convert_exception(e\u001b[38;5;241m.\u001b[39mjava_exception)\n\u001b[1;32m    182\u001b[0m \u001b[38;5;28;01mif\u001b[39;00m \u001b[38;5;129;01mnot\u001b[39;00m \u001b[38;5;28misinstance\u001b[39m(converted, UnknownException):\n\u001b[1;32m    183\u001b[0m     \u001b[38;5;66;03m# Hide where the exception came from that shows a non-Pythonic\u001b[39;00m\n\u001b[1;32m    184\u001b[0m     \u001b[38;5;66;03m# JVM exception message.\u001b[39;00m\n\u001b[0;32m--> 185\u001b[0m     \u001b[38;5;28;01mraise\u001b[39;00m converted \u001b[38;5;28;01mfrom\u001b[39;00m \u001b[38;5;28mNone\u001b[39m\n\u001b[1;32m    186\u001b[0m \u001b[38;5;28;01melse\u001b[39;00m:\n\u001b[1;32m    187\u001b[0m     \u001b[38;5;28;01mraise\u001b[39;00m\n",
                                    "\u001b[0;31mAnalysisException\u001b[0m: [AMBIGUOUS_REFERENCE] Reference `take_rate` is ambiguous, could be: [`take_rate`, `take_rate`]."
                              ]
                        }
                  ],
                  "source": [
                        "# Profitability analysis\n",
                        "# Calculate net revenue at the transaction level before aggregation\n",
                        "merchant_revenue = transactions_df.withColumn(\n",
                        "    \"commission_value\", F.col(\"dollar_value\") * F.col(\"take_rate\")/100\n",
                        ")\n",
                        "\n",
                        "# Aggregate net_revenue at the merchant level\n",
                        "merchant_profitability = merchant_revenue.groupBy(\"merchant_abn\").agg(\n",
                        "    F.sum(\"commission_value\").alias(\"total_commission\"),\n",
                        "    F.sum(\"dollar_value\").alias(\"total_revenue\"),\n",
                        "    F.avg(\"dollar_value\").alias(\"average_order_value\"),\n",
                        "    F.count(\"dollar_value\").alias(\"total_orders\"),\n",
                        "    F.avg(\"merchant_fp\").alias(\"merchant_avg_fp\"),\n",
                        "    F.avg(\"consumer_fp\").alias(\"consumer_avg_fp\")\n",
                        ")\n",
                        "\n",
                        "# Rank merchants by profitability in descending order\n",
                        "merchant_profitability.orderBy(F.col(\"total_commission\").desc()).show(10)"
                  ]
            },
            {
                  "cell_type": "markdown",
                  "metadata": {},
                  "source": [
                        "Taking a look at how much revenue does each revenue make in total as well as how many mechants are in each level."
                  ]
            },
            {
                  "cell_type": "code",
                  "execution_count": 20,
                  "metadata": {},
                  "outputs": [
                        {
                              "name": "stderr",
                              "output_type": "stream",
                              "text": [
                                    "                                                                                \r"
                              ]
                        },
                        {
                              "data": {
                                    "text/html": [
                                          "<table border='1'>\n",
                                          "<tr><th>revenue_level</th><th>total_revenue</th></tr>\n",
                                          "<tr><td>e</td><td>62249.06185458652</td></tr>\n",
                                          "<tr><td>d</td><td>329616.53593941435</td></tr>\n",
                                          "<tr><td>c</td><td>8966666.315755598</td></tr>\n",
                                          "<tr><td>b</td><td>2.8012155570699804E7</td></tr>\n",
                                          "<tr><td>a</td><td>4.782461194533622E7</td></tr>\n",
                                          "</table>\n"
                                    ],
                                    "text/plain": [
                                          "+-------------+--------------------+\n",
                                          "|revenue_level|       total_revenue|\n",
                                          "+-------------+--------------------+\n",
                                          "|            e|   62249.06185458652|\n",
                                          "|            d|  329616.53593941435|\n",
                                          "|            c|   8966666.315755598|\n",
                                          "|            b|2.8012155570699804E7|\n",
                                          "|            a| 4.782461194533622E7|\n",
                                          "+-------------+--------------------+"
                                    ]
                              },
                              "execution_count": 20,
                              "metadata": {},
                              "output_type": "execute_result"
                        }
                  ],
                  "source": [
                        "net_revenue_level = merchant_revenue.groupBy('revenue_level').agg(\n",
                        "    F.sum('commission_value').alias('total_revenue')) #sum up the net_revenue of BNPL firm for each level\n",
                        "net_revenue_level "
                  ]
            },
            {
                  "cell_type": "code",
                  "execution_count": 21,
                  "metadata": {},
                  "outputs": [
                        {
                              "name": "stderr",
                              "output_type": "stream",
                              "text": [
                                    "                                                                                \r"
                              ]
                        },
                        {
                              "data": {
                                    "text/html": [
                                          "<table border='1'>\n",
                                          "<tr><th>revenue_level</th><th>count</th></tr>\n",
                                          "<tr><td>e</td><td>105868</td></tr>\n",
                                          "<tr><td>d</td><td>120391</td></tr>\n",
                                          "<tr><td>c</td><td>2906492</td></tr>\n",
                                          "<tr><td>b</td><td>3443556</td></tr>\n",
                                          "<tr><td>a</td><td>5356780</td></tr>\n",
                                          "</table>\n"
                                    ],
                                    "text/plain": [
                                          "+-------------+-------+\n",
                                          "|revenue_level|  count|\n",
                                          "+-------------+-------+\n",
                                          "|            e| 105868|\n",
                                          "|            d| 120391|\n",
                                          "|            c|2906492|\n",
                                          "|            b|3443556|\n",
                                          "|            a|5356780|\n",
                                          "+-------------+-------+"
                                    ]
                              },
                              "execution_count": 21,
                              "metadata": {},
                              "output_type": "execute_result"
                        }
                  ],
                  "source": [
                        "# Count the occurrences of each revenue level\n",
                        "merchant_revenue.groupBy('revenue_level').count()"
                  ]
            },
            {
                  "cell_type": "markdown",
                  "metadata": {},
                  "source": [
                        "We can see that revenue level \"a\" has the highest revenue and number of merchants."
                  ]
            },
            {
                  "cell_type": "code",
                  "execution_count": 22,
                  "metadata": {},
                  "outputs": [
                        {
                              "name": "stderr",
                              "output_type": "stream",
                              "text": [
                                    "[Stage 236:=================================================>     (19 + 2) / 21]\r"
                              ]
                        },
                        {
                              "name": "stdout",
                              "output_type": "stream",
                              "text": [
                                    "+-------------+------------------+\n",
                                    "|revenue_level|   merchant_avg_fp|\n",
                                    "+-------------+------------------+\n",
                                    "|            e|  69.0953172336121|\n",
                                    "|            d| 63.37734364737916|\n",
                                    "|            c| 29.80498907688786|\n",
                                    "|            b|31.613147904540234|\n",
                                    "|            a| 29.48776610966251|\n",
                                    "+-------------+------------------+\n",
                                    "\n"
                              ]
                        },
                        {
                              "name": "stderr",
                              "output_type": "stream",
                              "text": [
                                    "                                                                                \r"
                              ]
                        }
                  ],
                  "source": [
                        "# # Compute the average fraud probability for each revenue level\n",
                        "average_fraud_by_revenue_level = merchant_revenue.groupBy(F.col(\"revenue_level\")).agg(\n",
                        "    F.avg(F.col(\"merchant_fp\")).alias(\"merchant_avg_fp\"))\n",
                        "\n",
                        "# Show the results\n",
                        "average_fraud_by_revenue_level.show()"
                  ]
            },
            {
                  "cell_type": "markdown",
                  "metadata": {},
                  "source": [
                        "We will save the `merchant_profitability` dataframe for future uses in visualisation."
                  ]
            },
            {
                  "cell_type": "code",
                  "execution_count": null,
                  "metadata": {},
                  "outputs": [],
                  "source": [
                        "merchant_profitability.write.parquet(f\"../data/curated/merchant_profitability.parquet\", mode = 'overwrite')\n",
                        "transactions_df.write.parquet(f\"../data/curated/transactions.parquet\", mode = 'overwrite')"
                  ]
            }
      ],
      "metadata": {
            "kernelspec": {
                  "display_name": "Python 3",
                  "language": "python",
                  "name": "python3"
            },
            "language_info": {
                  "codemirror_mode": {
                        "name": "ipython",
                        "version": 3
                  },
                  "file_extension": ".py",
                  "mimetype": "text/x-python",
                  "name": "python",
                  "nbconvert_exporter": "python",
                  "pygments_lexer": "ipython3",
                  "version": "3.8.10"
            }
      },
      "nbformat": 4,
      "nbformat_minor": 2
}
